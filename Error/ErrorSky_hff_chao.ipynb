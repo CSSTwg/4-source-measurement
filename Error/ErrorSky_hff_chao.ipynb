{
 "cells": [
  {
   "cell_type": "code",
   "execution_count": 1,
   "id": "8f87f86b",
   "metadata": {},
   "outputs": [],
   "source": [
    "import numpy as np\n",
    "from astropy.io import fits\n",
    "import matplotlib.pyplot as plt"
   ]
  },
  {
   "cell_type": "code",
   "execution_count": 2,
   "id": "89a38204",
   "metadata": {},
   "outputs": [],
   "source": [
    "mag_min=18\n",
    "mag_max=29.2 # this is should be determined from Sextractor catalog\n",
    "\n",
    "re_min=0.301\n",
    "re_max=99.9\n",
    "\n",
    "n_min=0.201\n",
    "n_max=8.99\n",
    "\n",
    "q_min=0.001\n",
    "q_max=1"
   ]
  },
  {
   "cell_type": "code",
   "execution_count": 3,
   "id": "4b61016f",
   "metadata": {},
   "outputs": [],
   "source": [
    "data=fits.open('output_catalogue.fits')[1].data\n",
    "id=data['NUMBER']\n",
    "mag=data['MAG_GALFIT_BAND']\n",
    "magsex=data['MAG_BEST']\n",
    "re=data['RE_GALFIT_BAND']\n",
    "n=data['N_GALFIT_BAND']\n",
    "q=data['Q_GALFIT_BAND']\n",
    "pa=data['PA_GALFIT_BAND']\n",
    "goodfit=(mag>mag_min)&(mag<mag_max)&(re>re_min)&(re<re_max)&(n>n_min)&(n<n_max)&(q>q_min)&(q<=q_max)&((mag-magsex)<5.0)&((mag-magsex)>(-5.0)) # the index of good fit sample\n"
   ]
  },
  {
   "cell_type": "code",
   "execution_count": 4,
   "id": "14d81d1a",
   "metadata": {},
   "outputs": [
    {
     "data": {
      "image/png": "[encoded data removed]",
      "text/plain": [
       "<Figure size 432x576 with 2 Axes>"
      ]
     },
     "metadata": {
      "needs_background": "light"
     },
     "output_type": "display_data"
    }
   ],
   "source": [
    "fig,ax=plt.subplots(figsize=(6,8))\n",
    "ax1=plt.subplot(211)\n",
    "data=fits.open('output_catalogue.fits')[1].data\n",
    "plt.hist(re[goodfit],bins=100)\n",
    "plt.plot([np.percentile(re[goodfit],90),np.percentile(re[goodfit],90)],[0,450])\n",
    "plt.ylabel('N',fontsize=12)\n",
    "plt.xlabel('Re [pixels]',fontsize=12)\n",
    "plt.xlim(0,20)\n",
    "plt.ylim(0,450)\n",
    "\n",
    "ax2=plt.subplot(212)\n",
    "plt.hist(n[goodfit],bins=30)\n",
    "plt.plot([np.percentile(n[goodfit],90),np.percentile(n[goodfit],90)],[0,350])\n",
    "plt.ylabel('N',fontsize=12)\n",
    "plt.xlabel('n',fontsize=12)\n",
    "plt.ylim(0,350)\n",
    "\n",
    "plt.subplots_adjust(left=0.12,right=0.95,top=0.95,bottom=0.08,wspace=0.06,hspace=0.18)\n",
    "plt.savefig('re_n_hist.jpg',dpi=150)"
   ]
  },
  {
   "cell_type": "code",
   "execution_count": null,
   "id": "c90a7ca1",
   "metadata": {},
   "outputs": [],
   "source": []
  }
 ],
 "metadata": {
  "kernelspec": {
   "display_name": "Python 3 (ipykernel)",
   "language": "python",
   "name": "python3"
  },
  "language_info": {
   "codemirror_mode": {
    "name": "ipython",
    "version": 3
   },
   "file_extension": ".py",
   "mimetype": "text/x-python",
   "name": "python",
   "nbconvert_exporter": "python",
   "pygments_lexer": "ipython3",
   "version": "3.9.6"
  }
 },
 "nbformat": 4,
 "nbformat_minor": 5
}
